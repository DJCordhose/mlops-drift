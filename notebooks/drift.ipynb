{
  "cells": [
    {
      "cell_type": "markdown",
      "metadata": {
        "colab_type": "text",
        "id": "view-in-github"
      },
      "source": [
        "<a href=\"https://colab.research.google.com/github/DJCordhose/mlops-drift/blob/main/notebooks/drift.ipynb\" target=\"_parent\"><img src=\"https://colab.research.google.com/assets/colab-badge.svg\" alt=\"Open In Colab\"/></a>"
      ]
    },
    {
      "cell_type": "markdown",
      "metadata": {
        "id": "XdfXfXK2-CiG"
      },
      "source": [
        "# Detecting drift\n",
        "\n",
        "* you can let evidently choose the test or make your own choice\n",
        "  * allows to select per type or per feature: https://docs.evidentlyai.com/reference/api-reference/evidently.options\n",
        "  * which test: https://www.evidentlyai.com/blog/data-drift-detection-large-datasets\n",
        "* Drift algorithm: https://docs.evidentlyai.com/reference/data-drift-algorithm  \n",
        "* complete code in `src/insurance_prediction/monitoring/data_drift.py`\n",
        "  * uses rolling window of incoming request in memory buffer\n",
        "  * implemented as a decorator: https://docs.python.org/3/search.html?q=decorator\n",
        "  * applied in `src/insurance_prediction/app/application/router.py`\n",
        "  "
      ]
    },
    {
      "cell_type": "code",
      "execution_count": 1,
      "metadata": {
        "colab": {
          "base_uri": "https://localhost:8080/"
        },
        "id": "RJt7NAaEc9Ig",
        "outputId": "d17d7dd3-5844-4fae-9130-bb72ff92eed7"
      },
      "outputs": [
        {
          "data": {
            "text/plain": [
              "False"
            ]
          },
          "execution_count": 1,
          "metadata": {},
          "output_type": "execute_result"
        }
      ],
      "source": [
        "import sys\n",
        "IN_COLAB = 'google.colab' in sys.modules\n",
        "IN_COLAB"
      ]
    },
    {
      "cell_type": "code",
      "execution_count": 2,
      "metadata": {
        "id": "pP-d8LdjcssR"
      },
      "outputs": [],
      "source": [
        "if IN_COLAB:\n",
        "  !pip install -q evidently"
      ]
    },
    {
      "cell_type": "code",
      "execution_count": 3,
      "metadata": {},
      "outputs": [
        {
          "data": {
            "text/plain": [
              "'0.3.0'"
            ]
          },
          "execution_count": 3,
          "metadata": {},
          "output_type": "execute_result"
        }
      ],
      "source": [
        "import evidently\n",
        "evidently.__version__"
      ]
    },
    {
      "cell_type": "code",
      "execution_count": 4,
      "metadata": {
        "id": "g38Tfm0ucssS"
      },
      "outputs": [
        {
          "name": "stderr",
          "output_type": "stream",
          "text": [
            "/home/olli/mlops-drift/.venv/lib/python3.10/site-packages/umap/distances.py:1063: NumbaDeprecationWarning: The 'nopython' keyword argument was not supplied to the 'numba.jit' decorator. The implicit default value for this argument is currently False, but it will be changed to True in Numba 0.59.0. See https://numba.readthedocs.io/en/stable/reference/deprecation.html#deprecation-of-object-mode-fall-back-behaviour-when-using-jit for details.\n",
            "  @numba.jit()\n",
            "/home/olli/mlops-drift/.venv/lib/python3.10/site-packages/umap/distances.py:1071: NumbaDeprecationWarning: The 'nopython' keyword argument was not supplied to the 'numba.jit' decorator. The implicit default value for this argument is currently False, but it will be changed to True in Numba 0.59.0. See https://numba.readthedocs.io/en/stable/reference/deprecation.html#deprecation-of-object-mode-fall-back-behaviour-when-using-jit for details.\n",
            "  @numba.jit()\n",
            "/home/olli/mlops-drift/.venv/lib/python3.10/site-packages/umap/distances.py:1086: NumbaDeprecationWarning: The 'nopython' keyword argument was not supplied to the 'numba.jit' decorator. The implicit default value for this argument is currently False, but it will be changed to True in Numba 0.59.0. See https://numba.readthedocs.io/en/stable/reference/deprecation.html#deprecation-of-object-mode-fall-back-behaviour-when-using-jit for details.\n",
            "  @numba.jit()\n",
            "/home/olli/mlops-drift/.venv/lib/python3.10/site-packages/umap/umap_.py:660: NumbaDeprecationWarning: The 'nopython' keyword argument was not supplied to the 'numba.jit' decorator. The implicit default value for this argument is currently False, but it will be changed to True in Numba 0.59.0. See https://numba.readthedocs.io/en/stable/reference/deprecation.html#deprecation-of-object-mode-fall-back-behaviour-when-using-jit for details.\n",
            "  @numba.jit()\n",
            "2023-10-28 13:56:18.909896: I tensorflow/core/util/port.cc:110] oneDNN custom operations are on. You may see slightly different numerical results due to floating-point round-off errors from different computation orders. To turn them off, set the environment variable `TF_ENABLE_ONEDNN_OPTS=0`.\n",
            "2023-10-28 13:56:18.951291: I tensorflow/core/platform/cpu_feature_guard.cc:182] This TensorFlow binary is optimized to use available CPU instructions in performance-critical operations.\n",
            "To enable the following instructions: AVX2 AVX512F AVX512_VNNI FMA, in other operations, rebuild TensorFlow with the appropriate compiler flags.\n"
          ]
        }
      ],
      "source": [
        "from evidently.metrics import DatasetDriftMetric\n",
        "from evidently.base_metric import InputData, ColumnMapping\n",
        "from evidently.runner.loader import DataLoader, DataOptions\n",
        "from evidently.calculations.data_drift import get_drift_for_columns\n",
        "from evidently.options import DataDriftOptions\n",
        "from evidently.utils.data_operations import process_columns"
      ]
    },
    {
      "cell_type": "markdown",
      "metadata": {
        "id": "5Hvbb4YWpZj_"
      },
      "source": [
        "## Preparing reference and current dataset"
      ]
    },
    {
      "cell_type": "code",
      "execution_count": 5,
      "metadata": {
        "id": "sz0p9q4lc9gZ"
      },
      "outputs": [],
      "source": [
        "def url_for_dataset(relative_path):\n",
        "  if IN_COLAB:\n",
        "    url = f'https://github.com/DJCordhose/mlops-drift/raw/main/datasets/insurance_prediction/{relative_path}.csv.gz'\n",
        "  else:\n",
        "    url =  f'../datasets/insurance_prediction/{relative_path}.csv.gz'\n",
        "  return url"
      ]
    },
    {
      "cell_type": "code",
      "execution_count": 6,
      "metadata": {
        "id": "OSqc0EKxeJit"
      },
      "outputs": [],
      "source": [
        "# how many months after training?\n",
        "# iteration = 36 # final month in dataset, should have the biggest difference\n",
        "iteration = 12 # one year later, drift should starting to show"
      ]
    },
    {
      "cell_type": "code",
      "execution_count": 7,
      "metadata": {
        "id": "if_GidjBcssT"
      },
      "outputs": [],
      "source": [
        "reference_dataset_url = url_for_dataset(f'reference')\n",
        "current_dataset_url = url_for_dataset(f'monthly/month-{iteration}')"
      ]
    },
    {
      "cell_type": "code",
      "execution_count": 8,
      "metadata": {
        "colab": {
          "base_uri": "https://localhost:8080/",
          "height": 206
        },
        "id": "lR117Uq_cssT",
        "outputId": "14ec68eb-f9fa-4675-c52e-53c2f2c97b7d"
      },
      "outputs": [
        {
          "data": {
            "text/html": [
              "<div>\n",
              "<style scoped>\n",
              "    .dataframe tbody tr th:only-of-type {\n",
              "        vertical-align: middle;\n",
              "    }\n",
              "\n",
              "    .dataframe tbody tr th {\n",
              "        vertical-align: top;\n",
              "    }\n",
              "\n",
              "    .dataframe thead th {\n",
              "        text-align: right;\n",
              "    }\n",
              "</style>\n",
              "<table border=\"1\" class=\"dataframe\">\n",
              "  <thead>\n",
              "    <tr style=\"text-align: right;\">\n",
              "      <th></th>\n",
              "      <th>training</th>\n",
              "      <th>age</th>\n",
              "      <th>emergency_braking</th>\n",
              "      <th>braking_distance</th>\n",
              "      <th>power</th>\n",
              "      <th>miles</th>\n",
              "    </tr>\n",
              "  </thead>\n",
              "  <tbody>\n",
              "    <tr>\n",
              "      <th>0</th>\n",
              "      <td>0</td>\n",
              "      <td>41.951100</td>\n",
              "      <td>0</td>\n",
              "      <td>40.933328</td>\n",
              "      <td>122.238329</td>\n",
              "      <td>98.509765</td>\n",
              "    </tr>\n",
              "    <tr>\n",
              "      <th>1</th>\n",
              "      <td>0</td>\n",
              "      <td>24.368286</td>\n",
              "      <td>1</td>\n",
              "      <td>44.797317</td>\n",
              "      <td>113.765298</td>\n",
              "      <td>46.324178</td>\n",
              "    </tr>\n",
              "    <tr>\n",
              "      <th>2</th>\n",
              "      <td>0</td>\n",
              "      <td>18.314649</td>\n",
              "      <td>1</td>\n",
              "      <td>41.587241</td>\n",
              "      <td>143.427269</td>\n",
              "      <td>76.862968</td>\n",
              "    </tr>\n",
              "    <tr>\n",
              "      <th>3</th>\n",
              "      <td>0</td>\n",
              "      <td>51.265254</td>\n",
              "      <td>1</td>\n",
              "      <td>47.266716</td>\n",
              "      <td>111.578133</td>\n",
              "      <td>102.697069</td>\n",
              "    </tr>\n",
              "    <tr>\n",
              "      <th>4</th>\n",
              "      <td>0</td>\n",
              "      <td>23.578861</td>\n",
              "      <td>0</td>\n",
              "      <td>42.835319</td>\n",
              "      <td>145.994235</td>\n",
              "      <td>63.690055</td>\n",
              "    </tr>\n",
              "  </tbody>\n",
              "</table>\n",
              "</div>"
            ],
            "text/plain": [
              "   training        age  emergency_braking  braking_distance       power   \n",
              "0         0  41.951100                  0         40.933328  122.238329  \\\n",
              "1         0  24.368286                  1         44.797317  113.765298   \n",
              "2         0  18.314649                  1         41.587241  143.427269   \n",
              "3         0  51.265254                  1         47.266716  111.578133   \n",
              "4         0  23.578861                  0         42.835319  145.994235   \n",
              "\n",
              "        miles  \n",
              "0   98.509765  \n",
              "1   46.324178  \n",
              "2   76.862968  \n",
              "3  102.697069  \n",
              "4   63.690055  "
            ]
          },
          "execution_count": 8,
          "metadata": {},
          "output_type": "execute_result"
        }
      ],
      "source": [
        "# could just as well be pandas code\n",
        "reference_dataset = DataLoader().load(\n",
        "   filename=reference_dataset_url,\n",
        "   data_options = DataOptions(date_column=None, separator=';'),\n",
        ")\n",
        "reference_dataset = reference_dataset.drop(['risk', 'group', 'group_name'], axis='columns')\n",
        "reference_dataset.head()"
      ]
    },
    {
      "cell_type": "code",
      "execution_count": 9,
      "metadata": {
        "colab": {
          "base_uri": "https://localhost:8080/",
          "height": 206
        },
        "id": "dHvI5ygJfGNt",
        "outputId": "38b8e95b-c52c-4f1d-e4c0-97570365e5eb"
      },
      "outputs": [
        {
          "data": {
            "text/html": [
              "<div>\n",
              "<style scoped>\n",
              "    .dataframe tbody tr th:only-of-type {\n",
              "        vertical-align: middle;\n",
              "    }\n",
              "\n",
              "    .dataframe tbody tr th {\n",
              "        vertical-align: top;\n",
              "    }\n",
              "\n",
              "    .dataframe thead th {\n",
              "        text-align: right;\n",
              "    }\n",
              "</style>\n",
              "<table border=\"1\" class=\"dataframe\">\n",
              "  <thead>\n",
              "    <tr style=\"text-align: right;\">\n",
              "      <th></th>\n",
              "      <th>training</th>\n",
              "      <th>age</th>\n",
              "      <th>emergency_braking</th>\n",
              "      <th>braking_distance</th>\n",
              "      <th>power</th>\n",
              "      <th>miles</th>\n",
              "    </tr>\n",
              "  </thead>\n",
              "  <tbody>\n",
              "    <tr>\n",
              "      <th>0</th>\n",
              "      <td>0</td>\n",
              "      <td>18.936814</td>\n",
              "      <td>0</td>\n",
              "      <td>43.758711</td>\n",
              "      <td>96.338095</td>\n",
              "      <td>63.786116</td>\n",
              "    </tr>\n",
              "    <tr>\n",
              "      <th>1</th>\n",
              "      <td>0</td>\n",
              "      <td>32.041673</td>\n",
              "      <td>1</td>\n",
              "      <td>29.122178</td>\n",
              "      <td>187.562915</td>\n",
              "      <td>81.079895</td>\n",
              "    </tr>\n",
              "    <tr>\n",
              "      <th>2</th>\n",
              "      <td>0</td>\n",
              "      <td>27.554665</td>\n",
              "      <td>1</td>\n",
              "      <td>40.783638</td>\n",
              "      <td>123.967462</td>\n",
              "      <td>49.117011</td>\n",
              "    </tr>\n",
              "    <tr>\n",
              "      <th>3</th>\n",
              "      <td>0</td>\n",
              "      <td>30.040739</td>\n",
              "      <td>1</td>\n",
              "      <td>37.612380</td>\n",
              "      <td>167.705733</td>\n",
              "      <td>67.576213</td>\n",
              "    </tr>\n",
              "    <tr>\n",
              "      <th>4</th>\n",
              "      <td>0</td>\n",
              "      <td>20.513682</td>\n",
              "      <td>1</td>\n",
              "      <td>37.577958</td>\n",
              "      <td>137.666668</td>\n",
              "      <td>61.367460</td>\n",
              "    </tr>\n",
              "  </tbody>\n",
              "</table>\n",
              "</div>"
            ],
            "text/plain": [
              "   training        age  emergency_braking  braking_distance       power   \n",
              "0         0  18.936814                  0         43.758711   96.338095  \\\n",
              "1         0  32.041673                  1         29.122178  187.562915   \n",
              "2         0  27.554665                  1         40.783638  123.967462   \n",
              "3         0  30.040739                  1         37.612380  167.705733   \n",
              "4         0  20.513682                  1         37.577958  137.666668   \n",
              "\n",
              "       miles  \n",
              "0  63.786116  \n",
              "1  81.079895  \n",
              "2  49.117011  \n",
              "3  67.576213  \n",
              "4  61.367460  "
            ]
          },
          "execution_count": 9,
          "metadata": {},
          "output_type": "execute_result"
        }
      ],
      "source": [
        "# could just as well be pandas code\n",
        "current_dataset = DataLoader().load(\n",
        "   filename=current_dataset_url,\n",
        "   data_options = DataOptions(date_column=None, separator=';'),\n",
        ")\n",
        "current_dataset = current_dataset.drop(['risk', 'group', 'group_name'], axis='columns')\n",
        "current_dataset.head()"
      ]
    },
    {
      "cell_type": "markdown",
      "metadata": {
        "id": "i2bk4q6JpmKC"
      },
      "source": [
        "## Target / Prediction"
      ]
    },
    {
      "cell_type": "code",
      "execution_count": 10,
      "metadata": {
        "colab": {
          "base_uri": "https://localhost:8080/",
          "height": 35
        },
        "id": "qA5S98PVirx2",
        "outputId": "e770fc12-2d6e-48ab-f8a4-00608e80b36c"
      },
      "outputs": [
        {
          "data": {
            "text/plain": [
              "'2.12.0'"
            ]
          },
          "execution_count": 10,
          "metadata": {},
          "output_type": "execute_result"
        }
      ],
      "source": [
        "import tensorflow as tf\n",
        "tf.__version__"
      ]
    },
    {
      "cell_type": "code",
      "execution_count": 11,
      "metadata": {
        "colab": {
          "base_uri": "https://localhost:8080/"
        },
        "id": "EH1T_j2nTmHi",
        "outputId": "c5b0bb4d-e875-4249-828e-5af5fdb57468"
      },
      "outputs": [],
      "source": [
        "if IN_COLAB:\n",
        "  !wget https://github.com/DJCordhose/mlops-drift/raw/main/notebooks/classifier.h5\n",
        "model_path = 'classifier'"
      ]
    },
    {
      "cell_type": "code",
      "execution_count": 12,
      "metadata": {
        "id": "Sp1SqlJ2MwWj"
      },
      "outputs": [],
      "source": [
        "model = tf.keras.models.load_model(f'{model_path}.h5')"
      ]
    },
    {
      "cell_type": "code",
      "execution_count": 13,
      "metadata": {
        "id": "lSKMm7DJz2DL"
      },
      "outputs": [],
      "source": [
        "def prediction_name(value: int):\n",
        "  names = ['HIGH', 'MEDIUM', 'LOW']\n",
        "  return names[value]\n"
      ]
    },
    {
      "cell_type": "code",
      "execution_count": 14,
      "metadata": {
        "colab": {
          "base_uri": "https://localhost:8080/",
          "height": 206
        },
        "id": "E-KNdSACMwWj",
        "outputId": "8bf93a49-fc0b-4787-f1a7-c637fa5f0616"
      },
      "outputs": [
        {
          "data": {
            "text/html": [
              "<div>\n",
              "<style scoped>\n",
              "    .dataframe tbody tr th:only-of-type {\n",
              "        vertical-align: middle;\n",
              "    }\n",
              "\n",
              "    .dataframe tbody tr th {\n",
              "        vertical-align: top;\n",
              "    }\n",
              "\n",
              "    .dataframe thead th {\n",
              "        text-align: right;\n",
              "    }\n",
              "</style>\n",
              "<table border=\"1\" class=\"dataframe\">\n",
              "  <thead>\n",
              "    <tr style=\"text-align: right;\">\n",
              "      <th></th>\n",
              "      <th>training</th>\n",
              "      <th>age</th>\n",
              "      <th>emergency_braking</th>\n",
              "      <th>braking_distance</th>\n",
              "      <th>power</th>\n",
              "      <th>miles</th>\n",
              "      <th>prediction</th>\n",
              "    </tr>\n",
              "  </thead>\n",
              "  <tbody>\n",
              "    <tr>\n",
              "      <th>0</th>\n",
              "      <td>0</td>\n",
              "      <td>18.936814</td>\n",
              "      <td>0</td>\n",
              "      <td>43.758711</td>\n",
              "      <td>96.338095</td>\n",
              "      <td>63.786116</td>\n",
              "      <td>HIGH</td>\n",
              "    </tr>\n",
              "    <tr>\n",
              "      <th>1</th>\n",
              "      <td>0</td>\n",
              "      <td>32.041673</td>\n",
              "      <td>1</td>\n",
              "      <td>29.122178</td>\n",
              "      <td>187.562915</td>\n",
              "      <td>81.079895</td>\n",
              "      <td>LOW</td>\n",
              "    </tr>\n",
              "    <tr>\n",
              "      <th>2</th>\n",
              "      <td>0</td>\n",
              "      <td>27.554665</td>\n",
              "      <td>1</td>\n",
              "      <td>40.783638</td>\n",
              "      <td>123.967462</td>\n",
              "      <td>49.117011</td>\n",
              "      <td>LOW</td>\n",
              "    </tr>\n",
              "    <tr>\n",
              "      <th>3</th>\n",
              "      <td>0</td>\n",
              "      <td>30.040739</td>\n",
              "      <td>1</td>\n",
              "      <td>37.612380</td>\n",
              "      <td>167.705733</td>\n",
              "      <td>67.576213</td>\n",
              "      <td>MEDIUM</td>\n",
              "    </tr>\n",
              "    <tr>\n",
              "      <th>4</th>\n",
              "      <td>0</td>\n",
              "      <td>20.513682</td>\n",
              "      <td>1</td>\n",
              "      <td>37.577958</td>\n",
              "      <td>137.666668</td>\n",
              "      <td>61.367460</td>\n",
              "      <td>MEDIUM</td>\n",
              "    </tr>\n",
              "  </tbody>\n",
              "</table>\n",
              "</div>"
            ],
            "text/plain": [
              "   training        age  emergency_braking  braking_distance       power   \n",
              "0         0  18.936814                  0         43.758711   96.338095  \\\n",
              "1         0  32.041673                  1         29.122178  187.562915   \n",
              "2         0  27.554665                  1         40.783638  123.967462   \n",
              "3         0  30.040739                  1         37.612380  167.705733   \n",
              "4         0  20.513682                  1         37.577958  137.666668   \n",
              "\n",
              "       miles prediction  \n",
              "0  63.786116       HIGH  \n",
              "1  81.079895        LOW  \n",
              "2  49.117011        LOW  \n",
              "3  67.576213     MEDIUM  \n",
              "4  61.367460     MEDIUM  "
            ]
          },
          "execution_count": 14,
          "metadata": {},
          "output_type": "execute_result"
        }
      ],
      "source": [
        "X = current_dataset\n",
        "y_pred = model.predict(X, verbose=0).argmax(axis=1)\n",
        "current_dataset_prediction = X.copy()\n",
        "current_dataset_prediction['prediction'] = list(map(prediction_name, y_pred))\n",
        "# current_dataset_prediction['prediction'] = y_pred\n",
        "current_dataset_prediction.head()"
      ]
    },
    {
      "cell_type": "code",
      "execution_count": 15,
      "metadata": {
        "colab": {
          "base_uri": "https://localhost:8080/",
          "height": 206
        },
        "id": "LM1FUkmgMwWk",
        "outputId": "58597996-fd7c-4e13-c001-6cf500abfebe"
      },
      "outputs": [
        {
          "data": {
            "text/html": [
              "<div>\n",
              "<style scoped>\n",
              "    .dataframe tbody tr th:only-of-type {\n",
              "        vertical-align: middle;\n",
              "    }\n",
              "\n",
              "    .dataframe tbody tr th {\n",
              "        vertical-align: top;\n",
              "    }\n",
              "\n",
              "    .dataframe thead th {\n",
              "        text-align: right;\n",
              "    }\n",
              "</style>\n",
              "<table border=\"1\" class=\"dataframe\">\n",
              "  <thead>\n",
              "    <tr style=\"text-align: right;\">\n",
              "      <th></th>\n",
              "      <th>training</th>\n",
              "      <th>age</th>\n",
              "      <th>emergency_braking</th>\n",
              "      <th>braking_distance</th>\n",
              "      <th>power</th>\n",
              "      <th>miles</th>\n",
              "      <th>prediction</th>\n",
              "    </tr>\n",
              "  </thead>\n",
              "  <tbody>\n",
              "    <tr>\n",
              "      <th>0</th>\n",
              "      <td>0</td>\n",
              "      <td>41.951100</td>\n",
              "      <td>0</td>\n",
              "      <td>40.933328</td>\n",
              "      <td>122.238329</td>\n",
              "      <td>98.509765</td>\n",
              "      <td>MEDIUM</td>\n",
              "    </tr>\n",
              "    <tr>\n",
              "      <th>1</th>\n",
              "      <td>0</td>\n",
              "      <td>24.368286</td>\n",
              "      <td>1</td>\n",
              "      <td>44.797317</td>\n",
              "      <td>113.765298</td>\n",
              "      <td>46.324178</td>\n",
              "      <td>MEDIUM</td>\n",
              "    </tr>\n",
              "    <tr>\n",
              "      <th>2</th>\n",
              "      <td>0</td>\n",
              "      <td>18.314649</td>\n",
              "      <td>1</td>\n",
              "      <td>41.587241</td>\n",
              "      <td>143.427269</td>\n",
              "      <td>76.862968</td>\n",
              "      <td>HIGH</td>\n",
              "    </tr>\n",
              "    <tr>\n",
              "      <th>3</th>\n",
              "      <td>0</td>\n",
              "      <td>51.265254</td>\n",
              "      <td>1</td>\n",
              "      <td>47.266716</td>\n",
              "      <td>111.578133</td>\n",
              "      <td>102.697069</td>\n",
              "      <td>HIGH</td>\n",
              "    </tr>\n",
              "    <tr>\n",
              "      <th>4</th>\n",
              "      <td>0</td>\n",
              "      <td>23.578861</td>\n",
              "      <td>0</td>\n",
              "      <td>42.835319</td>\n",
              "      <td>145.994235</td>\n",
              "      <td>63.690055</td>\n",
              "      <td>HIGH</td>\n",
              "    </tr>\n",
              "  </tbody>\n",
              "</table>\n",
              "</div>"
            ],
            "text/plain": [
              "   training        age  emergency_braking  braking_distance       power   \n",
              "0         0  41.951100                  0         40.933328  122.238329  \\\n",
              "1         0  24.368286                  1         44.797317  113.765298   \n",
              "2         0  18.314649                  1         41.587241  143.427269   \n",
              "3         0  51.265254                  1         47.266716  111.578133   \n",
              "4         0  23.578861                  0         42.835319  145.994235   \n",
              "\n",
              "        miles prediction  \n",
              "0   98.509765     MEDIUM  \n",
              "1   46.324178     MEDIUM  \n",
              "2   76.862968       HIGH  \n",
              "3  102.697069       HIGH  \n",
              "4   63.690055       HIGH  "
            ]
          },
          "execution_count": 15,
          "metadata": {},
          "output_type": "execute_result"
        }
      ],
      "source": [
        "X = reference_dataset\n",
        "y_pred = model.predict(X, verbose=0).argmax(axis=1)\n",
        "reference_dataset_prediction = X.copy()\n",
        "reference_dataset_prediction['prediction'] =  list(map(prediction_name, y_pred))\n",
        "# reference_dataset_prediction['prediction'] =  y_pred\n",
        "reference_dataset_prediction.head()"
      ]
    },
    {
      "cell_type": "markdown",
      "metadata": {},
      "source": [
        "# Calculating Drift"
      ]
    },
    {
      "cell_type": "code",
      "execution_count": 16,
      "metadata": {
        "colab": {
          "base_uri": "https://localhost:8080/"
        },
        "id": "96wgZtWMyILN",
        "outputId": "35f145ee-466a-497b-b2e8-cbd0400365b9"
      },
      "outputs": [
        {
          "data": {
            "text/plain": [
              "['training',\n",
              " 'emergency_braking',\n",
              " 'age',\n",
              " 'braking_distance',\n",
              " 'power',\n",
              " 'miles',\n",
              " 'prediction']"
            ]
          },
          "execution_count": 16,
          "metadata": {},
          "output_type": "execute_result"
        }
      ],
      "source": [
        "column_mapping = ColumnMapping(\n",
        "    categorical_features=['training', 'emergency_braking'],\n",
        "    numerical_features=['age', 'braking_distance', 'power', 'miles'],\n",
        "    prediction=\"prediction\",\n",
        "    target=None,\n",
        ")\n",
        "drift_share = 0.5\n",
        "columns = column_mapping.categorical_features + column_mapping.numerical_features + [column_mapping.prediction]\n",
        "columns"
      ]
    },
    {
      "cell_type": "code",
      "execution_count": 17,
      "metadata": {
        "id": "w3GdMNBk04WA"
      },
      "outputs": [],
      "source": [
        "input_data = InputData(\n",
        "    reference_data=reference_dataset_prediction,\n",
        "    current_data=current_dataset_prediction,\n",
        "    column_mapping=column_mapping,\n",
        "    current_additional_features=None,\n",
        "    data_definition=None,\n",
        "    reference_additional_features=None\n",
        ")"
      ]
    },
    {
      "cell_type": "code",
      "execution_count": 18,
      "metadata": {
        "colab": {
          "base_uri": "https://localhost:8080/"
        },
        "id": "SvtKgbLj1AHY",
        "outputId": "a01db9d0-b4f4-4425-ff20-d10fbd7b9e48"
      },
      "outputs": [
        {
          "data": {
            "text/plain": [
              "DatasetColumns(utility_columns=DatasetUtilityColumns(date=None, id=None, target=None, prediction='prediction'), target_type='cat', num_feature_names=['age', 'braking_distance', 'miles', 'power'], cat_feature_names=['training', 'emergency_braking'], text_feature_names=[], datetime_feature_names=[], target_names=None, task=None)"
            ]
          },
          "execution_count": 18,
          "metadata": {},
          "output_type": "execute_result"
        }
      ],
      "source": [
        "dataset_columns = process_columns(input_data.reference_data, input_data.column_mapping)\n",
        "dataset_columns"
      ]
    },
    {
      "cell_type": "code",
      "execution_count": 21,
      "metadata": {
        "id": "I_Dn6kFO04WB"
      },
      "outputs": [],
      "source": [
        "result = get_drift_for_columns(\n",
        "    current_data=input_data.current_data,\n",
        "    reference_data=input_data.reference_data,\n",
        "    data_drift_options=DataDriftOptions(),\n",
        "    drift_share_threshold=drift_share,\n",
        "    dataset_columns=dataset_columns,\n",
        "    columns=columns,\n",
        "    # needed depending on version\n",
        "    # agg_data = True\n",
        ")"
      ]
    },
    {
      "cell_type": "code",
      "execution_count": 22,
      "metadata": {},
      "outputs": [
        {
          "data": {
            "text/plain": [
              "7"
            ]
          },
          "execution_count": 22,
          "metadata": {},
          "output_type": "execute_result"
        }
      ],
      "source": [
        "result.number_of_columns"
      ]
    },
    {
      "cell_type": "code",
      "execution_count": 23,
      "metadata": {},
      "outputs": [
        {
          "data": {
            "text/plain": [
              "2"
            ]
          },
          "execution_count": 23,
          "metadata": {},
          "output_type": "execute_result"
        }
      ],
      "source": [
        "result.number_of_drifted_columns"
      ]
    },
    {
      "cell_type": "code",
      "execution_count": 24,
      "metadata": {},
      "outputs": [
        {
          "data": {
            "text/plain": [
              "0.2857142857142857"
            ]
          },
          "execution_count": 24,
          "metadata": {},
          "output_type": "execute_result"
        }
      ],
      "source": [
        "result.share_of_drifted_columns"
      ]
    },
    {
      "cell_type": "code",
      "execution_count": 25,
      "metadata": {},
      "outputs": [
        {
          "data": {
            "text/plain": [
              "False"
            ]
          },
          "execution_count": 25,
          "metadata": {},
          "output_type": "execute_result"
        }
      ],
      "source": [
        "result.dataset_drift"
      ]
    },
    {
      "cell_type": "code",
      "execution_count": 26,
      "metadata": {
        "colab": {
          "base_uri": "https://localhost:8080/"
        },
        "id": "_i8uDEfH1Qn0",
        "outputId": "fed8c61a-82cd-4b18-941a-31295f802e58"
      },
      "outputs": [
        {
          "name": "stdout",
          "output_type": "stream",
          "text": [
            "training: 0.005181253622581234 (Jensen-Shannon distance)\n",
            "emergency_braking: 0.13147841305705196 (Jensen-Shannon distance), drifted\n",
            "age: 0.09701144919398294 (Wasserstein distance (normed))\n",
            "braking_distance: 0.0692912211638476 (Wasserstein distance (normed))\n",
            "power: 0.027957726384958408 (Wasserstein distance (normed))\n",
            "miles: 0.22422961324847054 (Wasserstein distance (normed)), drifted\n",
            "prediction: 0.041610346630386784 (Jensen-Shannon distance)\n"
          ]
        }
      ],
      "source": [
        "for column in columns:\n",
        "    drift = result.drift_by_columns[column]\n",
        "    print(f'{column}: {drift.drift_score} ({drift.stattest_name}){\", drifted\" if drift.drift_detected else \"\"}')"
      ]
    },
    {
      "cell_type": "code",
      "execution_count": null,
      "metadata": {
        "id": "v8gSd7lc1RdB"
      },
      "outputs": [],
      "source": []
    }
  ],
  "metadata": {
    "colab": {
      "include_colab_link": true,
      "name": "drift.ipynb",
      "provenance": [],
      "toc_visible": true
    },
    "kernelspec": {
      "display_name": "Python 3 (ipykernel)",
      "language": "python",
      "name": "python3"
    },
    "language_info": {
      "codemirror_mode": {
        "name": "ipython",
        "version": 3
      },
      "file_extension": ".py",
      "mimetype": "text/x-python",
      "name": "python",
      "nbconvert_exporter": "python",
      "pygments_lexer": "ipython3",
      "version": "3.10.12"
    }
  },
  "nbformat": 4,
  "nbformat_minor": 0
}
