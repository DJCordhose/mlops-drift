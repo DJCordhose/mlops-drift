{
  "cells": [
    {
      "cell_type": "markdown",
      "metadata": {
        "id": "view-in-github",
        "colab_type": "text"
      },
      "source": [
        "<a href=\"https://colab.research.google.com/github/DJCordhose/mlops-drift/blob/main/notebooks/2-5-validate.ipynb\" target=\"_parent\"><img src=\"https://colab.research.google.com/assets/colab-badge.svg\" alt=\"Open In Colab\"/></a>"
      ]
    },
    {
      "cell_type": "markdown",
      "metadata": {
        "id": "XdfXfXK2-CiG"
      },
      "source": [
        "# Validate\n"
      ]
    },
    {
      "cell_type": "code",
      "execution_count": 1,
      "metadata": {
        "colab": {
          "base_uri": "https://localhost:8080/"
        },
        "id": "Id5mochYAuHF",
        "outputId": "ba1c6588-7ae4-41ff-d698-fdcfcd739235"
      },
      "outputs": [
        {
          "output_type": "execute_result",
          "data": {
            "text/plain": [
              "True"
            ]
          },
          "metadata": {},
          "execution_count": 1
        }
      ],
      "source": [
        "import sys\n",
        "IN_COLAB = 'google.colab' in sys.modules\n",
        "IN_COLAB"
      ]
    },
    {
      "cell_type": "code",
      "execution_count": 2,
      "metadata": {
        "id": "ayrOjwjuAuHJ"
      },
      "outputs": [],
      "source": [
        "def url_for_dataset(relative_path):\n",
        "  if IN_COLAB:\n",
        "    url = f'https://github.com/DJCordhose/mlops-drift/raw/main/datasets/insurance_prediction/{relative_path}.csv.gz'\n",
        "  else:\n",
        "    url =  f'../datasets/insurance_prediction/{relative_path}.csv.gz'\n",
        "  return url"
      ]
    },
    {
      "cell_type": "code",
      "execution_count": 3,
      "metadata": {
        "colab": {
          "base_uri": "https://localhost:8080/",
          "height": 35
        },
        "id": "u8IonVMfAelY",
        "outputId": "402d0123-528e-4347-d84a-6f06451d4ad9"
      },
      "outputs": [
        {
          "output_type": "execute_result",
          "data": {
            "text/plain": [
              "'2.13.0'"
            ],
            "application/vnd.google.colaboratory.intrinsic+json": {
              "type": "string"
            }
          },
          "metadata": {},
          "execution_count": 3
        }
      ],
      "source": [
        "# If this gives red output everything is fine\n",
        "import tensorflow as tf\n",
        "tf.__version__"
      ]
    },
    {
      "cell_type": "code",
      "execution_count": 4,
      "metadata": {
        "id": "RgpoNfeYIakQ"
      },
      "outputs": [],
      "source": [
        "# disable gpus, can also give red output and everything is just fine\n",
        "tf.config.set_visible_devices([], 'GPU')"
      ]
    },
    {
      "cell_type": "code",
      "execution_count": 5,
      "metadata": {
        "id": "VEKCrPj196pg"
      },
      "outputs": [],
      "source": [
        "tf.random.set_seed(42)"
      ]
    },
    {
      "cell_type": "code",
      "execution_count": 6,
      "metadata": {
        "colab": {
          "base_uri": "https://localhost:8080/",
          "height": 35
        },
        "id": "6Zr0x-nkr-bX",
        "outputId": "769ffb30-e2e2-4e5f-d48a-64409719dbf3"
      },
      "outputs": [
        {
          "output_type": "execute_result",
          "data": {
            "text/plain": [
              "'1.23.5'"
            ],
            "application/vnd.google.colaboratory.intrinsic+json": {
              "type": "string"
            }
          },
          "metadata": {},
          "execution_count": 6
        }
      ],
      "source": [
        "import numpy as np\n",
        "np.__version__"
      ]
    },
    {
      "cell_type": "code",
      "execution_count": 7,
      "metadata": {
        "id": "j6tt1Z9cEV9m"
      },
      "outputs": [],
      "source": [
        "import matplotlib.pyplot as plt\n",
        "%matplotlib inline\n",
        "\n",
        "import matplotlib as mpl\n",
        "mpl.rcParams['figure.figsize'] = (20, 8)\n",
        "mpl.rcParams['axes.titlesize'] = 24\n",
        "mpl.rcParams['axes.labelsize'] = 16"
      ]
    },
    {
      "cell_type": "markdown",
      "metadata": {
        "id": "T9WX2UCljEqA"
      },
      "source": [
        "# Step 1: Choosing data set for validation"
      ]
    },
    {
      "cell_type": "code",
      "source": [
        "use_new_data = False\n",
        "# how many months after training?\n",
        "iteration = 36 # final month in dataset, should have the biggest difference\n",
        "# iteration = 12 # one year later, drift should start to show"
      ],
      "metadata": {
        "id": "Vv1JkJK6EQNU"
      },
      "execution_count": 60,
      "outputs": []
    },
    {
      "cell_type": "code",
      "execution_count": 61,
      "metadata": {
        "id": "AxOrlUw1g09i"
      },
      "outputs": [],
      "source": [
        "import pandas as pd\n",
        "\n",
        "if not use_new_data:\n",
        "  # original (old) data\n",
        "  df = pd.read_csv(url_for_dataset(f'reference'), delimiter=';')\n",
        "else:\n",
        "  # new data\n",
        "  df = pd.read_csv(url_for_dataset(f'monthly/month-{iteration}'), delimiter=';')\n"
      ]
    },
    {
      "cell_type": "code",
      "execution_count": 62,
      "metadata": {
        "colab": {
          "base_uri": "https://localhost:8080/",
          "height": 363
        },
        "id": "2G8CfWKoXnN6",
        "outputId": "3d8834bc-6928-427f-83f9-487962b2232e"
      },
      "outputs": [
        {
          "output_type": "execute_result",
          "data": {
            "text/plain": [
              "   training        age  emergency_braking  braking_distance       power  \\\n",
              "0         0  41.951100                  0         40.933328  122.238329   \n",
              "1         0  24.368286                  1         44.797317  113.765298   \n",
              "2         0  18.314649                  1         41.587241  143.427269   \n",
              "3         0  51.265254                  1         47.266716  111.578133   \n",
              "4         0  23.578861                  0         42.835319  145.994235   \n",
              "5         0  29.506037                  1         46.547745  139.820214   \n",
              "6         0  21.289385                  1         40.666499  134.749599   \n",
              "7         1  47.459483                  0         35.168550  142.215391   \n",
              "8         1  20.573680                  1         41.798826  114.677871   \n",
              "9         0  24.639606                  1         40.801391  162.457198   \n",
              "\n",
              "        miles      risk group_name  group  \n",
              "0   98.509765  3.700073       high      0  \n",
              "1   46.324178  2.447873     medium      1  \n",
              "2   76.862968  4.079834       high      0  \n",
              "3  102.697069  5.087831       high      0  \n",
              "4   63.690055  3.739299       high      0  \n",
              "5   66.610999  3.130142       high      0  \n",
              "6   63.146964  1.774027     medium      1  \n",
              "7  123.385272  0.084924        low      2  \n",
              "8  103.853842 -0.033755        low      2  \n",
              "9   44.292386  2.456763     medium      1  "
            ],
            "text/html": [
              "\n",
              "  <div id=\"df-2d26cc32-2e8b-4aa9-a741-6648b2cef50d\" class=\"colab-df-container\">\n",
              "    <div>\n",
              "<style scoped>\n",
              "    .dataframe tbody tr th:only-of-type {\n",
              "        vertical-align: middle;\n",
              "    }\n",
              "\n",
              "    .dataframe tbody tr th {\n",
              "        vertical-align: top;\n",
              "    }\n",
              "\n",
              "    .dataframe thead th {\n",
              "        text-align: right;\n",
              "    }\n",
              "</style>\n",
              "<table border=\"1\" class=\"dataframe\">\n",
              "  <thead>\n",
              "    <tr style=\"text-align: right;\">\n",
              "      <th></th>\n",
              "      <th>training</th>\n",
              "      <th>age</th>\n",
              "      <th>emergency_braking</th>\n",
              "      <th>braking_distance</th>\n",
              "      <th>power</th>\n",
              "      <th>miles</th>\n",
              "      <th>risk</th>\n",
              "      <th>group_name</th>\n",
              "      <th>group</th>\n",
              "    </tr>\n",
              "  </thead>\n",
              "  <tbody>\n",
              "    <tr>\n",
              "      <th>0</th>\n",
              "      <td>0</td>\n",
              "      <td>41.951100</td>\n",
              "      <td>0</td>\n",
              "      <td>40.933328</td>\n",
              "      <td>122.238329</td>\n",
              "      <td>98.509765</td>\n",
              "      <td>3.700073</td>\n",
              "      <td>high</td>\n",
              "      <td>0</td>\n",
              "    </tr>\n",
              "    <tr>\n",
              "      <th>1</th>\n",
              "      <td>0</td>\n",
              "      <td>24.368286</td>\n",
              "      <td>1</td>\n",
              "      <td>44.797317</td>\n",
              "      <td>113.765298</td>\n",
              "      <td>46.324178</td>\n",
              "      <td>2.447873</td>\n",
              "      <td>medium</td>\n",
              "      <td>1</td>\n",
              "    </tr>\n",
              "    <tr>\n",
              "      <th>2</th>\n",
              "      <td>0</td>\n",
              "      <td>18.314649</td>\n",
              "      <td>1</td>\n",
              "      <td>41.587241</td>\n",
              "      <td>143.427269</td>\n",
              "      <td>76.862968</td>\n",
              "      <td>4.079834</td>\n",
              "      <td>high</td>\n",
              "      <td>0</td>\n",
              "    </tr>\n",
              "    <tr>\n",
              "      <th>3</th>\n",
              "      <td>0</td>\n",
              "      <td>51.265254</td>\n",
              "      <td>1</td>\n",
              "      <td>47.266716</td>\n",
              "      <td>111.578133</td>\n",
              "      <td>102.697069</td>\n",
              "      <td>5.087831</td>\n",
              "      <td>high</td>\n",
              "      <td>0</td>\n",
              "    </tr>\n",
              "    <tr>\n",
              "      <th>4</th>\n",
              "      <td>0</td>\n",
              "      <td>23.578861</td>\n",
              "      <td>0</td>\n",
              "      <td>42.835319</td>\n",
              "      <td>145.994235</td>\n",
              "      <td>63.690055</td>\n",
              "      <td>3.739299</td>\n",
              "      <td>high</td>\n",
              "      <td>0</td>\n",
              "    </tr>\n",
              "    <tr>\n",
              "      <th>5</th>\n",
              "      <td>0</td>\n",
              "      <td>29.506037</td>\n",
              "      <td>1</td>\n",
              "      <td>46.547745</td>\n",
              "      <td>139.820214</td>\n",
              "      <td>66.610999</td>\n",
              "      <td>3.130142</td>\n",
              "      <td>high</td>\n",
              "      <td>0</td>\n",
              "    </tr>\n",
              "    <tr>\n",
              "      <th>6</th>\n",
              "      <td>0</td>\n",
              "      <td>21.289385</td>\n",
              "      <td>1</td>\n",
              "      <td>40.666499</td>\n",
              "      <td>134.749599</td>\n",
              "      <td>63.146964</td>\n",
              "      <td>1.774027</td>\n",
              "      <td>medium</td>\n",
              "      <td>1</td>\n",
              "    </tr>\n",
              "    <tr>\n",
              "      <th>7</th>\n",
              "      <td>1</td>\n",
              "      <td>47.459483</td>\n",
              "      <td>0</td>\n",
              "      <td>35.168550</td>\n",
              "      <td>142.215391</td>\n",
              "      <td>123.385272</td>\n",
              "      <td>0.084924</td>\n",
              "      <td>low</td>\n",
              "      <td>2</td>\n",
              "    </tr>\n",
              "    <tr>\n",
              "      <th>8</th>\n",
              "      <td>1</td>\n",
              "      <td>20.573680</td>\n",
              "      <td>1</td>\n",
              "      <td>41.798826</td>\n",
              "      <td>114.677871</td>\n",
              "      <td>103.853842</td>\n",
              "      <td>-0.033755</td>\n",
              "      <td>low</td>\n",
              "      <td>2</td>\n",
              "    </tr>\n",
              "    <tr>\n",
              "      <th>9</th>\n",
              "      <td>0</td>\n",
              "      <td>24.639606</td>\n",
              "      <td>1</td>\n",
              "      <td>40.801391</td>\n",
              "      <td>162.457198</td>\n",
              "      <td>44.292386</td>\n",
              "      <td>2.456763</td>\n",
              "      <td>medium</td>\n",
              "      <td>1</td>\n",
              "    </tr>\n",
              "  </tbody>\n",
              "</table>\n",
              "</div>\n",
              "    <div class=\"colab-df-buttons\">\n",
              "\n",
              "  <div class=\"colab-df-container\">\n",
              "    <button class=\"colab-df-convert\" onclick=\"convertToInteractive('df-2d26cc32-2e8b-4aa9-a741-6648b2cef50d')\"\n",
              "            title=\"Convert this dataframe to an interactive table.\"\n",
              "            style=\"display:none;\">\n",
              "\n",
              "  <svg xmlns=\"http://www.w3.org/2000/svg\" height=\"24px\" viewBox=\"0 -960 960 960\">\n",
              "    <path d=\"M120-120v-720h720v720H120Zm60-500h600v-160H180v160Zm220 220h160v-160H400v160Zm0 220h160v-160H400v160ZM180-400h160v-160H180v160Zm440 0h160v-160H620v160ZM180-180h160v-160H180v160Zm440 0h160v-160H620v160Z\"/>\n",
              "  </svg>\n",
              "    </button>\n",
              "\n",
              "  <style>\n",
              "    .colab-df-container {\n",
              "      display:flex;\n",
              "      gap: 12px;\n",
              "    }\n",
              "\n",
              "    .colab-df-convert {\n",
              "      background-color: #E8F0FE;\n",
              "      border: none;\n",
              "      border-radius: 50%;\n",
              "      cursor: pointer;\n",
              "      display: none;\n",
              "      fill: #1967D2;\n",
              "      height: 32px;\n",
              "      padding: 0 0 0 0;\n",
              "      width: 32px;\n",
              "    }\n",
              "\n",
              "    .colab-df-convert:hover {\n",
              "      background-color: #E2EBFA;\n",
              "      box-shadow: 0px 1px 2px rgba(60, 64, 67, 0.3), 0px 1px 3px 1px rgba(60, 64, 67, 0.15);\n",
              "      fill: #174EA6;\n",
              "    }\n",
              "\n",
              "    .colab-df-buttons div {\n",
              "      margin-bottom: 4px;\n",
              "    }\n",
              "\n",
              "    [theme=dark] .colab-df-convert {\n",
              "      background-color: #3B4455;\n",
              "      fill: #D2E3FC;\n",
              "    }\n",
              "\n",
              "    [theme=dark] .colab-df-convert:hover {\n",
              "      background-color: #434B5C;\n",
              "      box-shadow: 0px 1px 3px 1px rgba(0, 0, 0, 0.15);\n",
              "      filter: drop-shadow(0px 1px 2px rgba(0, 0, 0, 0.3));\n",
              "      fill: #FFFFFF;\n",
              "    }\n",
              "  </style>\n",
              "\n",
              "    <script>\n",
              "      const buttonEl =\n",
              "        document.querySelector('#df-2d26cc32-2e8b-4aa9-a741-6648b2cef50d button.colab-df-convert');\n",
              "      buttonEl.style.display =\n",
              "        google.colab.kernel.accessAllowed ? 'block' : 'none';\n",
              "\n",
              "      async function convertToInteractive(key) {\n",
              "        const element = document.querySelector('#df-2d26cc32-2e8b-4aa9-a741-6648b2cef50d');\n",
              "        const dataTable =\n",
              "          await google.colab.kernel.invokeFunction('convertToInteractive',\n",
              "                                                    [key], {});\n",
              "        if (!dataTable) return;\n",
              "\n",
              "        const docLinkHtml = 'Like what you see? Visit the ' +\n",
              "          '<a target=\"_blank\" href=https://colab.research.google.com/notebooks/data_table.ipynb>data table notebook</a>'\n",
              "          + ' to learn more about interactive tables.';\n",
              "        element.innerHTML = '';\n",
              "        dataTable['output_type'] = 'display_data';\n",
              "        await google.colab.output.renderOutput(dataTable, element);\n",
              "        const docLink = document.createElement('div');\n",
              "        docLink.innerHTML = docLinkHtml;\n",
              "        element.appendChild(docLink);\n",
              "      }\n",
              "    </script>\n",
              "  </div>\n",
              "\n",
              "\n",
              "<div id=\"df-8d69eafc-b5f0-416c-9315-c1dfcd5fc3ad\">\n",
              "  <button class=\"colab-df-quickchart\" onclick=\"quickchart('df-8d69eafc-b5f0-416c-9315-c1dfcd5fc3ad')\"\n",
              "            title=\"Suggest charts.\"\n",
              "            style=\"display:none;\">\n",
              "\n",
              "<svg xmlns=\"http://www.w3.org/2000/svg\" height=\"24px\"viewBox=\"0 0 24 24\"\n",
              "     width=\"24px\">\n",
              "    <g>\n",
              "        <path d=\"M19 3H5c-1.1 0-2 .9-2 2v14c0 1.1.9 2 2 2h14c1.1 0 2-.9 2-2V5c0-1.1-.9-2-2-2zM9 17H7v-7h2v7zm4 0h-2V7h2v10zm4 0h-2v-4h2v4z\"/>\n",
              "    </g>\n",
              "</svg>\n",
              "  </button>\n",
              "\n",
              "<style>\n",
              "  .colab-df-quickchart {\n",
              "      --bg-color: #E8F0FE;\n",
              "      --fill-color: #1967D2;\n",
              "      --hover-bg-color: #E2EBFA;\n",
              "      --hover-fill-color: #174EA6;\n",
              "      --disabled-fill-color: #AAA;\n",
              "      --disabled-bg-color: #DDD;\n",
              "  }\n",
              "\n",
              "  [theme=dark] .colab-df-quickchart {\n",
              "      --bg-color: #3B4455;\n",
              "      --fill-color: #D2E3FC;\n",
              "      --hover-bg-color: #434B5C;\n",
              "      --hover-fill-color: #FFFFFF;\n",
              "      --disabled-bg-color: #3B4455;\n",
              "      --disabled-fill-color: #666;\n",
              "  }\n",
              "\n",
              "  .colab-df-quickchart {\n",
              "    background-color: var(--bg-color);\n",
              "    border: none;\n",
              "    border-radius: 50%;\n",
              "    cursor: pointer;\n",
              "    display: none;\n",
              "    fill: var(--fill-color);\n",
              "    height: 32px;\n",
              "    padding: 0;\n",
              "    width: 32px;\n",
              "  }\n",
              "\n",
              "  .colab-df-quickchart:hover {\n",
              "    background-color: var(--hover-bg-color);\n",
              "    box-shadow: 0 1px 2px rgba(60, 64, 67, 0.3), 0 1px 3px 1px rgba(60, 64, 67, 0.15);\n",
              "    fill: var(--button-hover-fill-color);\n",
              "  }\n",
              "\n",
              "  .colab-df-quickchart-complete:disabled,\n",
              "  .colab-df-quickchart-complete:disabled:hover {\n",
              "    background-color: var(--disabled-bg-color);\n",
              "    fill: var(--disabled-fill-color);\n",
              "    box-shadow: none;\n",
              "  }\n",
              "\n",
              "  .colab-df-spinner {\n",
              "    border: 2px solid var(--fill-color);\n",
              "    border-color: transparent;\n",
              "    border-bottom-color: var(--fill-color);\n",
              "    animation:\n",
              "      spin 1s steps(1) infinite;\n",
              "  }\n",
              "\n",
              "  @keyframes spin {\n",
              "    0% {\n",
              "      border-color: transparent;\n",
              "      border-bottom-color: var(--fill-color);\n",
              "      border-left-color: var(--fill-color);\n",
              "    }\n",
              "    20% {\n",
              "      border-color: transparent;\n",
              "      border-left-color: var(--fill-color);\n",
              "      border-top-color: var(--fill-color);\n",
              "    }\n",
              "    30% {\n",
              "      border-color: transparent;\n",
              "      border-left-color: var(--fill-color);\n",
              "      border-top-color: var(--fill-color);\n",
              "      border-right-color: var(--fill-color);\n",
              "    }\n",
              "    40% {\n",
              "      border-color: transparent;\n",
              "      border-right-color: var(--fill-color);\n",
              "      border-top-color: var(--fill-color);\n",
              "    }\n",
              "    60% {\n",
              "      border-color: transparent;\n",
              "      border-right-color: var(--fill-color);\n",
              "    }\n",
              "    80% {\n",
              "      border-color: transparent;\n",
              "      border-right-color: var(--fill-color);\n",
              "      border-bottom-color: var(--fill-color);\n",
              "    }\n",
              "    90% {\n",
              "      border-color: transparent;\n",
              "      border-bottom-color: var(--fill-color);\n",
              "    }\n",
              "  }\n",
              "</style>\n",
              "\n",
              "  <script>\n",
              "    async function quickchart(key) {\n",
              "      const quickchartButtonEl =\n",
              "        document.querySelector('#' + key + ' button');\n",
              "      quickchartButtonEl.disabled = true;  // To prevent multiple clicks.\n",
              "      quickchartButtonEl.classList.add('colab-df-spinner');\n",
              "      try {\n",
              "        const charts = await google.colab.kernel.invokeFunction(\n",
              "            'suggestCharts', [key], {});\n",
              "      } catch (error) {\n",
              "        console.error('Error during call to suggestCharts:', error);\n",
              "      }\n",
              "      quickchartButtonEl.classList.remove('colab-df-spinner');\n",
              "      quickchartButtonEl.classList.add('colab-df-quickchart-complete');\n",
              "    }\n",
              "    (() => {\n",
              "      let quickchartButtonEl =\n",
              "        document.querySelector('#df-8d69eafc-b5f0-416c-9315-c1dfcd5fc3ad button');\n",
              "      quickchartButtonEl.style.display =\n",
              "        google.colab.kernel.accessAllowed ? 'block' : 'none';\n",
              "    })();\n",
              "  </script>\n",
              "</div>\n",
              "    </div>\n",
              "  </div>\n"
            ]
          },
          "metadata": {},
          "execution_count": 62
        }
      ],
      "source": [
        "df.head(10)"
      ]
    },
    {
      "cell_type": "code",
      "execution_count": 63,
      "metadata": {
        "colab": {
          "base_uri": "https://localhost:8080/",
          "height": 300
        },
        "id": "pWXXoXWSicLU",
        "outputId": "a99b322b-2515-4f38-d390-eb691351eee3"
      },
      "outputs": [
        {
          "output_type": "execute_result",
          "data": {
            "text/plain": [
              "          training          age  emergency_braking  braking_distance  \\\n",
              "count  1500.000000  1500.000000        1500.000000       1500.000000   \n",
              "mean      0.210000    35.146663           0.394000         39.903294   \n",
              "std       0.407444    12.765348           0.488798          4.781834   \n",
              "min       0.000000    15.949545           0.000000         24.368993   \n",
              "25%       0.000000    25.141921           0.000000         36.733165   \n",
              "50%       0.000000    32.714683           0.000000         39.867888   \n",
              "75%       0.000000    42.633629           1.000000         42.938777   \n",
              "max       1.000000    86.213394           1.000000         56.463472   \n",
              "\n",
              "             power        miles         risk        group  \n",
              "count  1500.000000  1500.000000  1500.000000  1500.000000  \n",
              "mean    134.888089    80.965668     2.183617     0.901333  \n",
              "std      35.048570    25.496752     2.481164     0.815705  \n",
              "min      38.246253    18.796953    -5.289352     0.000000  \n",
              "25%     110.008660    62.666195     0.708085     0.000000  \n",
              "50%     131.055019    77.094819     2.386835     1.000000  \n",
              "75%     157.319959    95.568682     3.874869     2.000000  \n",
              "max     285.750164   211.807417    10.343054     2.000000  "
            ],
            "text/html": [
              "\n",
              "  <div id=\"df-fd492423-7c80-4eb4-ae85-ebefd112cfcb\" class=\"colab-df-container\">\n",
              "    <div>\n",
              "<style scoped>\n",
              "    .dataframe tbody tr th:only-of-type {\n",
              "        vertical-align: middle;\n",
              "    }\n",
              "\n",
              "    .dataframe tbody tr th {\n",
              "        vertical-align: top;\n",
              "    }\n",
              "\n",
              "    .dataframe thead th {\n",
              "        text-align: right;\n",
              "    }\n",
              "</style>\n",
              "<table border=\"1\" class=\"dataframe\">\n",
              "  <thead>\n",
              "    <tr style=\"text-align: right;\">\n",
              "      <th></th>\n",
              "      <th>training</th>\n",
              "      <th>age</th>\n",
              "      <th>emergency_braking</th>\n",
              "      <th>braking_distance</th>\n",
              "      <th>power</th>\n",
              "      <th>miles</th>\n",
              "      <th>risk</th>\n",
              "      <th>group</th>\n",
              "    </tr>\n",
              "  </thead>\n",
              "  <tbody>\n",
              "    <tr>\n",
              "      <th>count</th>\n",
              "      <td>1500.000000</td>\n",
              "      <td>1500.000000</td>\n",
              "      <td>1500.000000</td>\n",
              "      <td>1500.000000</td>\n",
              "      <td>1500.000000</td>\n",
              "      <td>1500.000000</td>\n",
              "      <td>1500.000000</td>\n",
              "      <td>1500.000000</td>\n",
              "    </tr>\n",
              "    <tr>\n",
              "      <th>mean</th>\n",
              "      <td>0.210000</td>\n",
              "      <td>35.146663</td>\n",
              "      <td>0.394000</td>\n",
              "      <td>39.903294</td>\n",
              "      <td>134.888089</td>\n",
              "      <td>80.965668</td>\n",
              "      <td>2.183617</td>\n",
              "      <td>0.901333</td>\n",
              "    </tr>\n",
              "    <tr>\n",
              "      <th>std</th>\n",
              "      <td>0.407444</td>\n",
              "      <td>12.765348</td>\n",
              "      <td>0.488798</td>\n",
              "      <td>4.781834</td>\n",
              "      <td>35.048570</td>\n",
              "      <td>25.496752</td>\n",
              "      <td>2.481164</td>\n",
              "      <td>0.815705</td>\n",
              "    </tr>\n",
              "    <tr>\n",
              "      <th>min</th>\n",
              "      <td>0.000000</td>\n",
              "      <td>15.949545</td>\n",
              "      <td>0.000000</td>\n",
              "      <td>24.368993</td>\n",
              "      <td>38.246253</td>\n",
              "      <td>18.796953</td>\n",
              "      <td>-5.289352</td>\n",
              "      <td>0.000000</td>\n",
              "    </tr>\n",
              "    <tr>\n",
              "      <th>25%</th>\n",
              "      <td>0.000000</td>\n",
              "      <td>25.141921</td>\n",
              "      <td>0.000000</td>\n",
              "      <td>36.733165</td>\n",
              "      <td>110.008660</td>\n",
              "      <td>62.666195</td>\n",
              "      <td>0.708085</td>\n",
              "      <td>0.000000</td>\n",
              "    </tr>\n",
              "    <tr>\n",
              "      <th>50%</th>\n",
              "      <td>0.000000</td>\n",
              "      <td>32.714683</td>\n",
              "      <td>0.000000</td>\n",
              "      <td>39.867888</td>\n",
              "      <td>131.055019</td>\n",
              "      <td>77.094819</td>\n",
              "      <td>2.386835</td>\n",
              "      <td>1.000000</td>\n",
              "    </tr>\n",
              "    <tr>\n",
              "      <th>75%</th>\n",
              "      <td>0.000000</td>\n",
              "      <td>42.633629</td>\n",
              "      <td>1.000000</td>\n",
              "      <td>42.938777</td>\n",
              "      <td>157.319959</td>\n",
              "      <td>95.568682</td>\n",
              "      <td>3.874869</td>\n",
              "      <td>2.000000</td>\n",
              "    </tr>\n",
              "    <tr>\n",
              "      <th>max</th>\n",
              "      <td>1.000000</td>\n",
              "      <td>86.213394</td>\n",
              "      <td>1.000000</td>\n",
              "      <td>56.463472</td>\n",
              "      <td>285.750164</td>\n",
              "      <td>211.807417</td>\n",
              "      <td>10.343054</td>\n",
              "      <td>2.000000</td>\n",
              "    </tr>\n",
              "  </tbody>\n",
              "</table>\n",
              "</div>\n",
              "    <div class=\"colab-df-buttons\">\n",
              "\n",
              "  <div class=\"colab-df-container\">\n",
              "    <button class=\"colab-df-convert\" onclick=\"convertToInteractive('df-fd492423-7c80-4eb4-ae85-ebefd112cfcb')\"\n",
              "            title=\"Convert this dataframe to an interactive table.\"\n",
              "            style=\"display:none;\">\n",
              "\n",
              "  <svg xmlns=\"http://www.w3.org/2000/svg\" height=\"24px\" viewBox=\"0 -960 960 960\">\n",
              "    <path d=\"M120-120v-720h720v720H120Zm60-500h600v-160H180v160Zm220 220h160v-160H400v160Zm0 220h160v-160H400v160ZM180-400h160v-160H180v160Zm440 0h160v-160H620v160ZM180-180h160v-160H180v160Zm440 0h160v-160H620v160Z\"/>\n",
              "  </svg>\n",
              "    </button>\n",
              "\n",
              "  <style>\n",
              "    .colab-df-container {\n",
              "      display:flex;\n",
              "      gap: 12px;\n",
              "    }\n",
              "\n",
              "    .colab-df-convert {\n",
              "      background-color: #E8F0FE;\n",
              "      border: none;\n",
              "      border-radius: 50%;\n",
              "      cursor: pointer;\n",
              "      display: none;\n",
              "      fill: #1967D2;\n",
              "      height: 32px;\n",
              "      padding: 0 0 0 0;\n",
              "      width: 32px;\n",
              "    }\n",
              "\n",
              "    .colab-df-convert:hover {\n",
              "      background-color: #E2EBFA;\n",
              "      box-shadow: 0px 1px 2px rgba(60, 64, 67, 0.3), 0px 1px 3px 1px rgba(60, 64, 67, 0.15);\n",
              "      fill: #174EA6;\n",
              "    }\n",
              "\n",
              "    .colab-df-buttons div {\n",
              "      margin-bottom: 4px;\n",
              "    }\n",
              "\n",
              "    [theme=dark] .colab-df-convert {\n",
              "      background-color: #3B4455;\n",
              "      fill: #D2E3FC;\n",
              "    }\n",
              "\n",
              "    [theme=dark] .colab-df-convert:hover {\n",
              "      background-color: #434B5C;\n",
              "      box-shadow: 0px 1px 3px 1px rgba(0, 0, 0, 0.15);\n",
              "      filter: drop-shadow(0px 1px 2px rgba(0, 0, 0, 0.3));\n",
              "      fill: #FFFFFF;\n",
              "    }\n",
              "  </style>\n",
              "\n",
              "    <script>\n",
              "      const buttonEl =\n",
              "        document.querySelector('#df-fd492423-7c80-4eb4-ae85-ebefd112cfcb button.colab-df-convert');\n",
              "      buttonEl.style.display =\n",
              "        google.colab.kernel.accessAllowed ? 'block' : 'none';\n",
              "\n",
              "      async function convertToInteractive(key) {\n",
              "        const element = document.querySelector('#df-fd492423-7c80-4eb4-ae85-ebefd112cfcb');\n",
              "        const dataTable =\n",
              "          await google.colab.kernel.invokeFunction('convertToInteractive',\n",
              "                                                    [key], {});\n",
              "        if (!dataTable) return;\n",
              "\n",
              "        const docLinkHtml = 'Like what you see? Visit the ' +\n",
              "          '<a target=\"_blank\" href=https://colab.research.google.com/notebooks/data_table.ipynb>data table notebook</a>'\n",
              "          + ' to learn more about interactive tables.';\n",
              "        element.innerHTML = '';\n",
              "        dataTable['output_type'] = 'display_data';\n",
              "        await google.colab.output.renderOutput(dataTable, element);\n",
              "        const docLink = document.createElement('div');\n",
              "        docLink.innerHTML = docLinkHtml;\n",
              "        element.appendChild(docLink);\n",
              "      }\n",
              "    </script>\n",
              "  </div>\n",
              "\n",
              "\n",
              "<div id=\"df-ce0fbdd6-5438-462a-9edf-f5f6a6a9bfdc\">\n",
              "  <button class=\"colab-df-quickchart\" onclick=\"quickchart('df-ce0fbdd6-5438-462a-9edf-f5f6a6a9bfdc')\"\n",
              "            title=\"Suggest charts.\"\n",
              "            style=\"display:none;\">\n",
              "\n",
              "<svg xmlns=\"http://www.w3.org/2000/svg\" height=\"24px\"viewBox=\"0 0 24 24\"\n",
              "     width=\"24px\">\n",
              "    <g>\n",
              "        <path d=\"M19 3H5c-1.1 0-2 .9-2 2v14c0 1.1.9 2 2 2h14c1.1 0 2-.9 2-2V5c0-1.1-.9-2-2-2zM9 17H7v-7h2v7zm4 0h-2V7h2v10zm4 0h-2v-4h2v4z\"/>\n",
              "    </g>\n",
              "</svg>\n",
              "  </button>\n",
              "\n",
              "<style>\n",
              "  .colab-df-quickchart {\n",
              "      --bg-color: #E8F0FE;\n",
              "      --fill-color: #1967D2;\n",
              "      --hover-bg-color: #E2EBFA;\n",
              "      --hover-fill-color: #174EA6;\n",
              "      --disabled-fill-color: #AAA;\n",
              "      --disabled-bg-color: #DDD;\n",
              "  }\n",
              "\n",
              "  [theme=dark] .colab-df-quickchart {\n",
              "      --bg-color: #3B4455;\n",
              "      --fill-color: #D2E3FC;\n",
              "      --hover-bg-color: #434B5C;\n",
              "      --hover-fill-color: #FFFFFF;\n",
              "      --disabled-bg-color: #3B4455;\n",
              "      --disabled-fill-color: #666;\n",
              "  }\n",
              "\n",
              "  .colab-df-quickchart {\n",
              "    background-color: var(--bg-color);\n",
              "    border: none;\n",
              "    border-radius: 50%;\n",
              "    cursor: pointer;\n",
              "    display: none;\n",
              "    fill: var(--fill-color);\n",
              "    height: 32px;\n",
              "    padding: 0;\n",
              "    width: 32px;\n",
              "  }\n",
              "\n",
              "  .colab-df-quickchart:hover {\n",
              "    background-color: var(--hover-bg-color);\n",
              "    box-shadow: 0 1px 2px rgba(60, 64, 67, 0.3), 0 1px 3px 1px rgba(60, 64, 67, 0.15);\n",
              "    fill: var(--button-hover-fill-color);\n",
              "  }\n",
              "\n",
              "  .colab-df-quickchart-complete:disabled,\n",
              "  .colab-df-quickchart-complete:disabled:hover {\n",
              "    background-color: var(--disabled-bg-color);\n",
              "    fill: var(--disabled-fill-color);\n",
              "    box-shadow: none;\n",
              "  }\n",
              "\n",
              "  .colab-df-spinner {\n",
              "    border: 2px solid var(--fill-color);\n",
              "    border-color: transparent;\n",
              "    border-bottom-color: var(--fill-color);\n",
              "    animation:\n",
              "      spin 1s steps(1) infinite;\n",
              "  }\n",
              "\n",
              "  @keyframes spin {\n",
              "    0% {\n",
              "      border-color: transparent;\n",
              "      border-bottom-color: var(--fill-color);\n",
              "      border-left-color: var(--fill-color);\n",
              "    }\n",
              "    20% {\n",
              "      border-color: transparent;\n",
              "      border-left-color: var(--fill-color);\n",
              "      border-top-color: var(--fill-color);\n",
              "    }\n",
              "    30% {\n",
              "      border-color: transparent;\n",
              "      border-left-color: var(--fill-color);\n",
              "      border-top-color: var(--fill-color);\n",
              "      border-right-color: var(--fill-color);\n",
              "    }\n",
              "    40% {\n",
              "      border-color: transparent;\n",
              "      border-right-color: var(--fill-color);\n",
              "      border-top-color: var(--fill-color);\n",
              "    }\n",
              "    60% {\n",
              "      border-color: transparent;\n",
              "      border-right-color: var(--fill-color);\n",
              "    }\n",
              "    80% {\n",
              "      border-color: transparent;\n",
              "      border-right-color: var(--fill-color);\n",
              "      border-bottom-color: var(--fill-color);\n",
              "    }\n",
              "    90% {\n",
              "      border-color: transparent;\n",
              "      border-bottom-color: var(--fill-color);\n",
              "    }\n",
              "  }\n",
              "</style>\n",
              "\n",
              "  <script>\n",
              "    async function quickchart(key) {\n",
              "      const quickchartButtonEl =\n",
              "        document.querySelector('#' + key + ' button');\n",
              "      quickchartButtonEl.disabled = true;  // To prevent multiple clicks.\n",
              "      quickchartButtonEl.classList.add('colab-df-spinner');\n",
              "      try {\n",
              "        const charts = await google.colab.kernel.invokeFunction(\n",
              "            'suggestCharts', [key], {});\n",
              "      } catch (error) {\n",
              "        console.error('Error during call to suggestCharts:', error);\n",
              "      }\n",
              "      quickchartButtonEl.classList.remove('colab-df-spinner');\n",
              "      quickchartButtonEl.classList.add('colab-df-quickchart-complete');\n",
              "    }\n",
              "    (() => {\n",
              "      let quickchartButtonEl =\n",
              "        document.querySelector('#df-ce0fbdd6-5438-462a-9edf-f5f6a6a9bfdc button');\n",
              "      quickchartButtonEl.style.display =\n",
              "        google.colab.kernel.accessAllowed ? 'block' : 'none';\n",
              "    })();\n",
              "  </script>\n",
              "</div>\n",
              "    </div>\n",
              "  </div>\n"
            ]
          },
          "metadata": {},
          "execution_count": 63
        }
      ],
      "source": [
        "df.describe()"
      ]
    },
    {
      "cell_type": "code",
      "source": [
        "X = df.drop(['risk', 'group', 'group_name'], axis='columns').values"
      ],
      "metadata": {
        "id": "S44plAx2Cns8"
      },
      "execution_count": 64,
      "outputs": []
    },
    {
      "cell_type": "code",
      "source": [
        "y = df['group'].values\n",
        "np.unique(y, return_counts=True)"
      ],
      "metadata": {
        "colab": {
          "base_uri": "https://localhost:8080/"
        },
        "id": "0XIoMO5yCoGW",
        "outputId": "948e8730-1520-4420-88f5-0f1e7b8084e0"
      },
      "execution_count": 65,
      "outputs": [
        {
          "output_type": "execute_result",
          "data": {
            "text/plain": [
              "(array([0, 1, 2]), array([580, 488, 432]))"
            ]
          },
          "metadata": {},
          "execution_count": 65
        }
      ]
    },
    {
      "cell_type": "code",
      "source": [
        "from sklearn.model_selection import train_test_split\n",
        "# FIXME: does not make sense when this is a completely new dataset\n",
        "X_train, X_val, y_train, y_val = train_test_split(X, y, test_size=0.2, random_state=21, stratify=y)\n",
        "X_train.shape, X_val.shape, y_train.shape, y_val.shape"
      ],
      "metadata": {
        "colab": {
          "base_uri": "https://localhost:8080/"
        },
        "id": "nugRAcV3Cq6x",
        "outputId": "6fc4e6df-cc6c-40fe-8cb5-bc12efd686df"
      },
      "execution_count": 66,
      "outputs": [
        {
          "output_type": "execute_result",
          "data": {
            "text/plain": [
              "((1200, 6), (300, 6), (1200,), (300,))"
            ]
          },
          "metadata": {},
          "execution_count": 66
        }
      ]
    },
    {
      "cell_type": "markdown",
      "metadata": {
        "id": "gbK6f9MOagVd"
      },
      "source": [
        "# Step 2: Choosing model to validate on\n",
        "Options:\n",
        "1. use pre-trained model from github (old model)\n",
        "1. use whatever you have in this folder or anywhere in your file system\n",
        "1. download model from training notebook and upload here (when using colab)\n",
        "1. mount google drive"
      ]
    },
    {
      "cell_type": "code",
      "source": [
        "# !wget https://github.com/DJCordhose/mlops-drift/raw/main/notebooks/classifier.h5"
      ],
      "metadata": {
        "id": "d28GHNe1BfPC"
      },
      "execution_count": 67,
      "outputs": []
    },
    {
      "cell_type": "code",
      "source": [
        "model_path = 'classifier'\n",
        "model = tf.keras.models.load_model(f'{model_path}.h5')"
      ],
      "metadata": {
        "id": "P1G0rVbqB6T8"
      },
      "execution_count": 68,
      "outputs": []
    },
    {
      "cell_type": "code",
      "execution_count": 69,
      "metadata": {
        "colab": {
          "base_uri": "https://localhost:8080/"
        },
        "id": "Up4MylW3ohLy",
        "outputId": "2b1cf0e0-efa1-4284-a5b1-37cc03c6a46b"
      },
      "outputs": [
        {
          "output_type": "execute_result",
          "data": {
            "text/plain": [
              "0.8691666722297668"
            ]
          },
          "metadata": {},
          "execution_count": 69
        }
      ],
      "source": [
        "_, train_metric = model.evaluate(X_train, y_train, verbose=0)\n",
        "train_metric"
      ]
    },
    {
      "cell_type": "code",
      "execution_count": 70,
      "metadata": {
        "colab": {
          "base_uri": "https://localhost:8080/"
        },
        "id": "xDMEU0cuokhv",
        "outputId": "4e1c9675-b947-419f-aaa9-06c48c65087c"
      },
      "outputs": [
        {
          "output_type": "execute_result",
          "data": {
            "text/plain": [
              "0.8833333253860474"
            ]
          },
          "metadata": {},
          "execution_count": 70
        }
      ],
      "source": [
        "_, test_metric = model.evaluate(X_val, y_val, verbose=0)\n",
        "test_metric"
      ]
    },
    {
      "cell_type": "markdown",
      "metadata": {
        "id": "Pjr3vYFfXnOI"
      },
      "source": [
        "# Step 3: Check Invariant Properties of Model"
      ]
    },
    {
      "cell_type": "markdown",
      "metadata": {
        "id": "wuuehKWFXnOI"
      },
      "source": [
        "## Accuracy range and lack of overfitting"
      ]
    },
    {
      "cell_type": "code",
      "execution_count": 71,
      "metadata": {
        "id": "Zb7jot_PXnOI"
      },
      "outputs": [],
      "source": [
        "# 85% is sufficient for our use case\n",
        "assert train_metric > .85"
      ]
    },
    {
      "cell_type": "code",
      "execution_count": 72,
      "metadata": {
        "id": "BBB2fP2rXnOJ"
      },
      "outputs": [],
      "source": [
        "assert test_metric > .85"
      ]
    },
    {
      "cell_type": "code",
      "execution_count": 25,
      "metadata": {
        "id": "wk0ANMVKXnOJ"
      },
      "outputs": [],
      "source": [
        "assert abs(train_metric - test_metric) < .05"
      ]
    },
    {
      "cell_type": "code",
      "execution_count": 26,
      "metadata": {
        "id": "Y0mklOJgIak7"
      },
      "outputs": [],
      "source": [
        "# we can not be too good, this would be a suspicious\n",
        "\n",
        "assert test_metric < .95\n",
        "assert train_metric < .95"
      ]
    },
    {
      "cell_type": "markdown",
      "metadata": {
        "id": "mq9eeb3wXnOJ"
      },
      "source": [
        "## Invariants of the model itself (without using data on it)\n",
        "Could be\n",
        "* effective depth of tree (if decision tree has been used as architecture instead of NN)\n",
        "* distribution of weights\n",
        "* actual normalization\n",
        "\n",
        "**We do use these properties as we want to treat the model as a black box to make it interchangable**"
      ]
    },
    {
      "cell_type": "markdown",
      "metadata": {
        "id": "VI9G_DmlXnOK"
      },
      "source": [
        "# Invariants also useful for monitoring and analyzis - not using GT"
      ]
    },
    {
      "cell_type": "code",
      "execution_count": 27,
      "metadata": {
        "colab": {
          "base_uri": "https://localhost:8080/"
        },
        "id": "CTvKah3ZXnOK",
        "outputId": "14988ffc-c952-4006-b79a-44cfa3cbcf93"
      },
      "outputs": [
        {
          "output_type": "stream",
          "name": "stdout",
          "text": [
            "47/47 [==============================] - 0s 3ms/step\n"
          ]
        },
        {
          "output_type": "execute_result",
          "data": {
            "text/plain": [
              "(1500,)"
            ]
          },
          "metadata": {},
          "execution_count": 27
        }
      ],
      "source": [
        "y_pred = model.predict(X).argmax(axis=1)\n",
        "y_pred.shape"
      ]
    },
    {
      "cell_type": "markdown",
      "metadata": {
        "id": "2JDSlOLTXnOK"
      },
      "source": [
        "## Distribution of Output Class"
      ]
    },
    {
      "cell_type": "code",
      "execution_count": 28,
      "metadata": {
        "colab": {
          "base_uri": "https://localhost:8080/"
        },
        "id": "wrXSGhGhXnOL",
        "outputId": "ca2de7a9-0ef6-4ec5-afd4-a87e464de2d4"
      },
      "outputs": [
        {
          "output_type": "execute_result",
          "data": {
            "text/plain": [
              "(array([0, 1, 2]), array([562, 516, 422]))"
            ]
          },
          "metadata": {},
          "execution_count": 28
        }
      ],
      "source": [
        "values, counts = np.unique(y_pred, return_counts=True)\n",
        "values, counts"
      ]
    },
    {
      "cell_type": "code",
      "execution_count": 29,
      "metadata": {
        "colab": {
          "base_uri": "https://localhost:8080/"
        },
        "id": "hN3qaRqyXnOL",
        "outputId": "abea4bfc-2971-44ba-cde5-1b9b702f2a0f"
      },
      "outputs": [
        {
          "output_type": "stream",
          "name": "stdout",
          "text": [
            "400-600\n",
            "562\n",
            "516\n",
            "422\n"
          ]
        }
      ],
      "source": [
        "# equal distribution around classes expected\n",
        "tolerance = 0.2\n",
        "expected_count = len(X) / 3\n",
        "lower_bound = int(expected_count * (1 - tolerance))\n",
        "upper_bound = int(expected_count * (1 + tolerance))\n",
        "print(f'{lower_bound}-{upper_bound}')\n",
        "\n",
        "for count in counts:\n",
        "    print(count)\n",
        "    assert count in range(lower_bound, upper_bound)"
      ]
    },
    {
      "cell_type": "markdown",
      "metadata": {
        "id": "pZkb-2LQXnON"
      },
      "source": [
        "## Distribution of confidence"
      ]
    },
    {
      "cell_type": "code",
      "execution_count": 30,
      "metadata": {
        "colab": {
          "base_uri": "https://localhost:8080/"
        },
        "id": "Mtkpl0MfXnON",
        "outputId": "dcc2acbe-9aad-47e0-b656-6f9d4faf872b"
      },
      "outputs": [
        {
          "output_type": "stream",
          "name": "stdout",
          "text": [
            "47/47 [==============================] - 0s 2ms/step\n"
          ]
        },
        {
          "output_type": "execute_result",
          "data": {
            "text/plain": [
              "(1500,)"
            ]
          },
          "metadata": {},
          "execution_count": 30
        }
      ],
      "source": [
        "y_pred_probas = model.predict(X).max(axis=1)\n",
        "y_pred_probas.shape"
      ]
    },
    {
      "cell_type": "code",
      "execution_count": 31,
      "metadata": {
        "colab": {
          "base_uri": "https://localhost:8080/"
        },
        "id": "W7L456W7XnOO",
        "outputId": "7965fa83-ad8a-45b6-dbe0-c75a5b03284b"
      },
      "outputs": [
        {
          "output_type": "execute_result",
          "data": {
            "text/plain": [
              "(0.4761628, 0.7455376, 0.9996872)"
            ]
          },
          "metadata": {},
          "execution_count": 31
        }
      ],
      "source": [
        "y_pred_probas.min(), y_pred_probas.mean(), y_pred_probas.max()"
      ]
    },
    {
      "cell_type": "code",
      "execution_count": 32,
      "metadata": {
        "id": "SRhITWXTXnOO"
      },
      "outputs": [],
      "source": [
        "assert y_pred_probas.min() > .4"
      ]
    },
    {
      "cell_type": "code",
      "execution_count": 33,
      "metadata": {
        "id": "dXRGwBPRXnOO"
      },
      "outputs": [],
      "source": [
        "assert y_pred_probas.mean() > 0.7"
      ]
    },
    {
      "cell_type": "code",
      "execution_count": 34,
      "metadata": {
        "id": "hZ5sXQMlXnOO"
      },
      "outputs": [],
      "source": [
        "assert y_pred_probas.max() > 0.99"
      ]
    }
  ],
  "metadata": {
    "colab": {
      "gpuType": "T4",
      "name": "2-5-validate.ipynb",
      "provenance": [],
      "include_colab_link": true
    },
    "gpuClass": "standard",
    "kernelspec": {
      "display_name": "Python 3 (ipykernel)",
      "language": "python",
      "name": "python3"
    },
    "language_info": {
      "codemirror_mode": {
        "name": "ipython",
        "version": 3
      },
      "file_extension": ".py",
      "mimetype": "text/x-python",
      "name": "python",
      "nbconvert_exporter": "python",
      "pygments_lexer": "ipython3",
      "version": "3.10.9"
    },
    "vscode": {
      "interpreter": {
        "hash": "b870ca113b8d463729fafef49a3e0e004253b1ba30d77d673e281de9466d3d15"
      }
    }
  },
  "nbformat": 4,
  "nbformat_minor": 0
}